{
  "nbformat": 4,
  "nbformat_minor": 0,
  "metadata": {
    "colab": {
      "name": "Import_Data_Original.ipynb",
      "provenance": []
    },
    "kernelspec": {
      "name": "python3",
      "display_name": "Python 3"
    }
  },
  "cells": [
    {
      "cell_type": "markdown",
      "metadata": {
        "id": "xCJDBxk0habb",
        "colab_type": "text"
      },
      "source": [
        "# Identificação de Alzaimer em imagens RX\n",
        "\n",
        "* Mohammad Reza Tabrizi"
      ]
    },
    {
      "cell_type": "code",
      "metadata": {
        "colab_type": "code",
        "id": "_saF2zvaxXJO",
        "colab": {
          "base_uri": "https://localhost:8080/",
          "height": 183
        },
        "outputId": "30a15795-0ac0-48d0-f489-25b1b973fb3d"
      },
      "source": [
        "from sklearn.utils.multiclass import unique_labels\n",
        "from sklearn.ensemble import RandomForestClassifier,AdaBoostClassifier\n",
        "from sklearn.metrics import confusion_matrix,classification_report\n",
        "from sklearn.model_selection import cross_val_score\n",
        "from sklearn.externals import joblib\n",
        "from sklearn.model_selection import train_test_split\n",
        "import tensorflow as tf\n",
        "import matplotlib.pyplot as plt\n",
        "import pandas as pd\n",
        "import numpy as np\n",
        "from numpy import expand_dims\n",
        "#import torch\n",
        "import os\n",
        "from tqdm import tqdm #barra de progreso`\n",
        "import cv2\n",
        "from PIL import Image\n",
        "from glob import glob\n",
        "import keras\n",
        "from keras.preprocessing import image\n",
        "from keras.preprocessing.image import ImageDataGenerator,img_to_array\n",
        "#para redimencionar\n",
        "import sklearn\n",
        "import skimage\n",
        "from skimage.transform import resize\n",
        "import random\n",
        "from sklearn.metrics import confusion_matrix\n",
        "import datetime\n",
        "import seaborn as sns\n",
        "from imblearn.over_sampling import RandomOverSampler\n",
        "from imblearn.under_sampling import RandomUnderSampler\n",
        "from skimage.color import rgb2gray\n",
        "from keras.utils import plot_model\n",
        "from keras.models import Model,Sequential\n",
        "from keras.callbacks import EarlyStopping, ModelCheckpoint,ReduceLROnPlateau\n",
        "from keras.layers import Dense, Conv2D, MaxPooling2D,MaxPool2D, Flatten, Embedding, Dropout,BatchNormalization\n",
        "from keras.layers import MaxPooling2D,AveragePooling2D,GlobalAveragePooling2D,concatenate,Input\n",
        "from keras.utils import to_categorical\n",
        "import pydot\n",
        "from IPython.display import SVG\n",
        "from keras.utils.vis_utils import model_to_dot\n",
        "from keras.utils import plot_model\n",
        "from keras import datasets, layers, models, optimizers\n",
        "from keras.applications.imagenet_utils import preprocess_input\n",
        "from sklearn.neighbors import KNeighborsClassifier\n",
        "import pickle\n",
        "from keras.layers.convolutional import Conv2D\n",
        "from keras.layers.pooling import MaxPooling2D,AveragePooling2D\n",
        "from keras.layers.merge import concatenate"
      ],
      "execution_count": null,
      "outputs": [
        {
          "output_type": "stream",
          "text": [
            "/usr/local/lib/python3.6/dist-packages/sklearn/externals/joblib/__init__.py:15: FutureWarning: sklearn.externals.joblib is deprecated in 0.21 and will be removed in 0.23. Please import this functionality directly from joblib, which can be installed with: pip install joblib. If this warning is raised when loading pickled models, you may need to re-serialize those models with scikit-learn 0.21+.\n",
            "  warnings.warn(msg, category=FutureWarning)\n",
            "Using TensorFlow backend.\n",
            "/usr/local/lib/python3.6/dist-packages/statsmodels/tools/_testing.py:19: FutureWarning: pandas.util.testing is deprecated. Use the functions in the public API at pandas.testing instead.\n",
            "  import pandas.util.testing as tm\n",
            "/usr/local/lib/python3.6/dist-packages/sklearn/externals/six.py:31: FutureWarning: The module is deprecated in version 0.21 and will be removed in version 0.23 since we've dropped support for Python 2.7. Please rely on the official version of six (https://pypi.org/project/six/).\n",
            "  \"(https://pypi.org/project/six/).\", FutureWarning)\n",
            "/usr/local/lib/python3.6/dist-packages/sklearn/utils/deprecation.py:144: FutureWarning: The sklearn.neighbors.base module is  deprecated in version 0.22 and will be removed in version 0.24. The corresponding classes / functions should instead be imported from sklearn.neighbors. Anything that cannot be imported from sklearn.neighbors is now part of the private API.\n",
            "  warnings.warn(message, FutureWarning)\n"
          ],
          "name": "stderr"
        }
      ]
    },
    {
      "cell_type": "code",
      "metadata": {
        "colab_type": "code",
        "id": "HpkPpZeO2UV8",
        "colab": {
          "base_uri": "https://localhost:8080/",
          "height": 265
        },
        "outputId": "cde6e9d6-a2de-4bd2-871e-65b91d1cb805"
      },
      "source": [
        "!pip install pydrive\n",
        "from pydrive.auth import GoogleAuth\n",
        "from pydrive.drive import GoogleDrive\n",
        "from google.colab import auth\n",
        "from oauth2client.client import GoogleCredentials\n",
        "auth.authenticate_user()\n",
        "gauth = GoogleAuth()\n",
        "gauth.credentials = GoogleCredentials.get_application_default()\n",
        "drive = GoogleDrive(gauth)"
      ],
      "execution_count": null,
      "outputs": [
        {
          "output_type": "stream",
          "text": [
            "Requirement already satisfied: pydrive in /usr/local/lib/python3.6/dist-packages (1.3.1)\n",
            "Requirement already satisfied: PyYAML>=3.0 in /usr/local/lib/python3.6/dist-packages (from pydrive) (3.13)\n",
            "Requirement already satisfied: oauth2client>=4.0.0 in /usr/local/lib/python3.6/dist-packages (from pydrive) (4.1.3)\n",
            "Requirement already satisfied: google-api-python-client>=1.2 in /usr/local/lib/python3.6/dist-packages (from pydrive) (1.7.12)\n",
            "Requirement already satisfied: six>=1.6.1 in /usr/local/lib/python3.6/dist-packages (from oauth2client>=4.0.0->pydrive) (1.12.0)\n",
            "Requirement already satisfied: pyasn1-modules>=0.0.5 in /usr/local/lib/python3.6/dist-packages (from oauth2client>=4.0.0->pydrive) (0.2.8)\n",
            "Requirement already satisfied: httplib2>=0.9.1 in /usr/local/lib/python3.6/dist-packages (from oauth2client>=4.0.0->pydrive) (0.17.4)\n",
            "Requirement already satisfied: pyasn1>=0.1.7 in /usr/local/lib/python3.6/dist-packages (from oauth2client>=4.0.0->pydrive) (0.4.8)\n",
            "Requirement already satisfied: rsa>=3.1.4 in /usr/local/lib/python3.6/dist-packages (from oauth2client>=4.0.0->pydrive) (4.6)\n",
            "Requirement already satisfied: google-auth>=1.4.1 in /usr/local/lib/python3.6/dist-packages (from google-api-python-client>=1.2->pydrive) (1.17.2)\n",
            "Requirement already satisfied: uritemplate<4dev,>=3.0.0 in /usr/local/lib/python3.6/dist-packages (from google-api-python-client>=1.2->pydrive) (3.0.1)\n",
            "Requirement already satisfied: google-auth-httplib2>=0.0.3 in /usr/local/lib/python3.6/dist-packages (from google-api-python-client>=1.2->pydrive) (0.0.3)\n",
            "Requirement already satisfied: setuptools>=40.3.0 in /usr/local/lib/python3.6/dist-packages (from google-auth>=1.4.1->google-api-python-client>=1.2->pydrive) (47.3.1)\n",
            "Requirement already satisfied: cachetools<5.0,>=2.0.0 in /usr/local/lib/python3.6/dist-packages (from google-auth>=1.4.1->google-api-python-client>=1.2->pydrive) (4.1.0)\n"
          ],
          "name": "stdout"
        }
      ]
    },
    {
      "cell_type": "code",
      "metadata": {
        "id": "CbAVAtppNguy",
        "colab_type": "code",
        "colab": {}
      },
      "source": [
        "x_train = drive.CreateFile({'id':\"*****************\"})   # https:/\n",
        "x_train.GetContentFile('xtrain.npy')        # file name\n",
        "x_test = drive.CreateFile({'id':\"*****************\"})   #https:/\n",
        "x_test.GetContentFile('xtest.npy')  \n",
        "x_All_original_image = drive.CreateFile({'id':\"********************\"})   # https:/\n",
        "x_All_original_image.GetContentFile('X_all_Original_image.npy') \n",
        "y_train = drive.CreateFile({'id':\"********************\"})  #https://\n",
        "y_train.GetContentFile('ytrain.npy')\n",
        "y_test = drive.CreateFile({'id':\"********************\"})   #https:\n",
        "y_test.GetContentFile('ytest.npy')        # \n",
        "y_All_original_omage = drive.CreateFile({'id':\"********************\"}) #https:\n",
        "y_All_original_omage.GetContentFile('y_all_Original_image.npy')\n",
        "X_Arurgmantation = drive.CreateFile({'id':\"1Q9TsDMh__-********************\"})   #https:\n",
        "X_Arurgmantation.GetContentFile('X_Arurgmantation.npy')        # file name\n",
        "y_Arurgmantation = drive.CreateFile({'id':\"********************\"})   #https\n",
        "y_Arurgmantation.GetContentFile('y_Arurgmantation.npy') "
      ],
      "execution_count": null,
      "outputs": []
    },
    {
      "cell_type": "markdown",
      "metadata": {
        "id": "HbalaBtVMpb3",
        "colab_type": "text"
      },
      "source": [
        "# Importar dados\n",
        "### A seguinte função auxilia na importação dos dados recolhidos dos vários repositórios, associando a respetiva label aos mesmos. Os dados são convertidos em arrays:"
      ]
    },
    {
      "cell_type": "code",
      "metadata": {
        "colab_type": "code",
        "id": "fO6crtyV0JOd",
        "colab": {}
      },
      "source": [
        "def get_data(folder):\n",
        "    X = []\n",
        "    y = []\n",
        "    for folderName in os.listdir(folder):\n",
        "        if not folderName.startswith('.'):\n",
        "            if folderName in ['NonDemented']:\n",
        "                label = 0\n",
        "            elif folderName in ['ModerateDemented']:\n",
        "                label = 1\n",
        "            elif folderName in ['MildDemented']:\n",
        "                label = 2\n",
        "            elif folderName in ['VeryMildDemented']:\n",
        "                label = 3\n",
        "            else:\n",
        "                label = 4\n",
        "            for image_filename in tqdm(os.listdir(folder + folderName)):\n",
        "                    img_file = cv2.imread(folder + folderName + '/' + image_filename)\n",
        "                    if img_file is not None:\n",
        "                        img_file = skimage.transform.resize(img_file, (200, 200, 3),mode='constant',\n",
        "                                                            anti_aliasing=True)\n",
        "                        img_file = rgb2gray(img_file)\n",
        "                        img_arr = np.asarray(img_file)\n",
        "                        X.append(img_arr)\n",
        "                        y.append(label)\n",
        "    X = np.asarray(X)\n",
        "    y = np.asarray(y)\n",
        "    return X,y"
      ],
      "execution_count": null,
      "outputs": []
    },
    {
      "cell_type": "markdown",
      "metadata": {
        "id": "DQAlQthuMpb_",
        "colab_type": "text"
      },
      "source": [
        "### Na primeira invocação (LOAD_FROM_IMAGES = True) é feito o load das imagens para os arrays, que são guardados. Nas invocações seguintes (LOAD_FROM_IMAGES = False) é apenas feito o load dos arrays guardados."
      ]
    },
    {
      "cell_type": "code",
      "metadata": {
        "colab_type": "code",
        "id": "8sKtvTjy0DhJ",
        "colab": {}
      },
      "source": [
        "train_dir = \"Alz_DB/train/\"\n",
        "test_dir =  \"Alz_DB/test/\"\n",
        "# cuando ya tenemos prosesamos imagenes es false\n",
        "LOAD_FROM_IMAGES = True"
      ],
      "execution_count": null,
      "outputs": []
    },
    {
      "cell_type": "code",
      "metadata": {
        "colab_type": "code",
        "id": "Z3W-Ectc-SR8",
        "colab": {
          "base_uri": "https://localhost:8080/",
          "height": 147
        },
        "outputId": "204ac0da-32d9-4828-f4ab-70e64e338faa"
      },
      "source": [
        "if LOAD_FROM_IMAGES:\n",
        "    #cargamos las imágenes a los arrays\n",
        "    X_train, y_train = get_data(train_dir)\n",
        "    X_test, y_test= get_data(test_dir)\n",
        "    \n",
        "    #grabamos los arrays en archivos\n",
        "    np.save('xtrain.npy', X_train)\n",
        "    np.save('ytrain.npy', y_train)\n",
        "    np.save('xtest.npy', X_test)\n",
        "    np.save('ytest.npy', y_test)\n",
        "    X_train = np.load('xtrain.npy')\n",
        "    y_train = np.load('ytrain.npy')\n",
        "    X_test = np.load('xtest.npy')\n",
        "    y_test = np.load('ytest.npy')\n",
        "else:\n",
        "    #cargamos los arrays anteriormente grabados\n",
        "    X_train = np.load('xtrain.npy')\n",
        "    y_train = np.load('ytrain.npy')\n",
        "    X_test = np.load('xtest.npy')\n",
        "    y_test = np.load('ytest.npy')"
      ],
      "execution_count": null,
      "outputs": [
        {
          "output_type": "stream",
          "text": [
            "100%|██████████| 717/717 [00:26<00:00, 27.50it/s]\n",
            "100%|██████████| 52/52 [00:01<00:00, 27.31it/s]\n",
            "100%|██████████| 2560/2560 [01:20<00:00, 31.68it/s]\n",
            "100%|██████████| 1792/1792 [00:51<00:00, 34.58it/s]\n",
            "100%|██████████| 179/179 [00:15<00:00, 11.46it/s]\n",
            "100%|██████████| 12/12 [00:00<00:00, 13.16it/s]\n",
            "100%|██████████| 640/640 [00:18<00:00, 35.14it/s]\n",
            "100%|██████████| 448/448 [00:11<00:00, 37.54it/s]\n"
          ],
          "name": "stderr"
        }
      ]
    },
    {
      "cell_type": "markdown",
      "metadata": {
        "id": "AVlpOuruMpcM",
        "colab_type": "text"
      },
      "source": [
        "### Por fim são anexadas às imagens de treino e test para contabilizar "
      ]
    },
    {
      "cell_type": "code",
      "metadata": {
        "colab_type": "code",
        "id": "ZWfd5bGa_kCL",
        "colab": {}
      },
      "source": [
        "y_all_Original_image= np.concatenate((y_train,y_test),axis=0)\n",
        "X_all_Original_image=np.concatenate((X_train,X_test),axis=0)\n"
      ],
      "execution_count": null,
      "outputs": []
    },
    {
      "cell_type": "markdown",
      "metadata": {
        "id": "LNGtU8ONMpcR",
        "colab_type": "text"
      },
      "source": [
        "### Guardamos as imagens em totalidade Como (X_all_Original_image e y_all_Original_image)"
      ]
    },
    {
      "cell_type": "code",
      "metadata": {
        "id": "FCAJMeq7MpcR",
        "colab_type": "code",
        "colab": {}
      },
      "source": [
        "np.save('y_all_Original_image.npy', y_all_Original_image)\n",
        "np.save('X_all_Original_image.npy', X_all_Original_image)"
      ],
      "execution_count": null,
      "outputs": []
    },
    {
      "cell_type": "code",
      "metadata": {
        "colab_type": "code",
        "id": "eFbhu8hs0aNt",
        "colab": {}
      },
      "source": [
        "def count_labels(y_all_Original_image):\n",
        "  how_many_0 = len(np.where(y_all_Original_image==0)[0])\n",
        "  how_many_1 = len(np.where(y_all_Original_image==1)[0])\n",
        "  how_many_2 = len(np.where(y_all_Original_image==2)[0])\n",
        "  how_many_3 = len(np.where(y_all_Original_image==3)[0])\n",
        "\n",
        "  print('#NonDemented:',how_many_0)\n",
        "  print('#ModerateDemented:',how_many_1)\n",
        "  print('#MildDemented:',how_many_2)\n",
        "  print('#VeryMildDemented:',how_many_3)"
      ],
      "execution_count": null,
      "outputs": []
    },
    {
      "cell_type": "markdown",
      "metadata": {
        "id": "VWMOcbefMpcY",
        "colab_type": "text"
      },
      "source": [
        "### O plot evidencia um conjunto de dados Não  balanceado no caso de ModerateDemented (Label=1) e MildDemented (Label=2)"
      ]
    },
    {
      "cell_type": "code",
      "metadata": {
        "id": "jzRR12ACMpca",
        "colab_type": "code",
        "colab": {}
      },
      "source": [
        "df = pd.DataFrame()\n",
        "df[\"labels\"]=y_all_Original_image\n",
        "lab = df['labels']\n",
        "dist = lab.value_counts()"
      ],
      "execution_count": null,
      "outputs": []
    },
    {
      "cell_type": "code",
      "metadata": {
        "id": "CEmeOL0MMpcf",
        "colab_type": "code",
        "colab": {
          "base_uri": "https://localhost:8080/",
          "height": 247
        },
        "outputId": "19f40d19-c0a1-4cac-8525-f233b0f40c99"
      },
      "source": [
        "labels ='NonDemented', 'ModerateDemented', 'MildDemented','VeryMildDemented'\n",
        "sizes = lab.value_counts()\n",
        "explode = (0, 0.1, 0.3, 0) \n",
        "\n",
        "fig1, ax1 = plt.subplots()\n",
        "ax1.pie(sizes, explode=explode, labels=labels, autopct='%1.1f%%',\n",
        "        shadow=True, startangle=90)\n",
        "ax1.axis('equal')  \n",
        "\n",
        "plt.show()"
      ],
      "execution_count": null,
      "outputs": [
        {
          "output_type": "display_data",
          "data": {
            "image/png": "[encoded data removed]",
            "text/plain": [
              "<Figure size 432x288 with 1 Axes>"
            ]
          },
          "metadata": {
            "tags": []
          }
        }
      ]
    },
    {
      "cell_type": "code",
      "metadata": {
        "colab_type": "code",
        "id": "chf5hw6i03h6",
        "colab": {
          "base_uri": "https://localhost:8080/",
          "height": 50
        },
        "outputId": "dafa54a8-acd1-4940-d73c-37b92609ce85"
      },
      "source": [
        "print('X_all_Original_image:',X_all_Original_image.shape)\n",
        "print('y_all_Original_image:',y_all_Original_image.shape)"
      ],
      "execution_count": null,
      "outputs": [
        {
          "output_type": "stream",
          "text": [
            "X_all_Original_image: (6400, 200, 200)\n",
            "y_all_Original_image: (6400,)\n"
          ],
          "name": "stdout"
        }
      ]
    },
    {
      "cell_type": "code",
      "metadata": {
        "colab_type": "code",
        "id": "SwEKmTNM04wX",
        "colab": {
          "base_uri": "https://localhost:8080/",
          "height": 82
        },
        "outputId": "a1b39856-d779-46b4-9317-34e689cc04dd"
      },
      "source": [
        "count_labels(y_all_Original_image)"
      ],
      "execution_count": null,
      "outputs": [
        {
          "output_type": "stream",
          "text": [
            "#NonDemented: 3200\n",
            "#ModerateDemented: 64\n",
            "#MildDemented: 896\n",
            "#VeryMildDemented: 2240\n"
          ],
          "name": "stdout"
        }
      ]
    }
  ]
}