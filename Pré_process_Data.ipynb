{
  "nbformat": 4,
  "nbformat_minor": 0,
  "metadata": {
    "colab": {
      "name": "Pré-process_Data.ipynb",
      "provenance": []
    },
    "kernelspec": {
      "name": "python3",
      "display_name": "Python 3"
    }
  },
  "cells": [
    {
      "cell_type": "markdown",
      "metadata": {
        "id": "FV_JaNM9iijJ",
        "colab_type": "text"
      },
      "source": [
        "# Identificação de Alzaimer em imagens RX\n",
        "* Mohammad Reza Tabrizi"
      ]
    },
    {
      "cell_type": "markdown",
      "metadata": {
        "id": "toFAYK1FMpdX",
        "colab_type": "text"
      },
      "source": [
        "# 2. Pré-processamento dos dados\n",
        "### 2.1 Reshape das imagens\n",
        "#### Comecemos por visualizar o shape dos dados no Base de dados Originales e logo dados Augmentation:"
      ]
    },
    {
      "cell_type": "code",
      "metadata": {
        "id": "SiVWgN-NMpdY",
        "colab_type": "code",
        "colab": {
          "base_uri": "https://localhost:8080/",
          "height": 82
        },
        "outputId": "a2344d2e-19f8-422f-b4c3-9a46cdf3b852"
      },
      "source": [
        "print('X_all_Original_image:',X_all_Original_image.shape)\n",
        "print('y_all_Original_image:',y_all_Original_image.shape)\n",
        "print('X_Arurgmantation:',X_Arurgmantation.shape)\n",
        "print('y_Arurgmantation:',y_Arurgmantation.shape)"
      ],
      "execution_count": null,
      "outputs": [
        {
          "output_type": "stream",
          "text": [
            "X_all_Original_image: (6400, 200, 200)\n",
            "y_all_Original_image: (6400,)\n",
            "X_Arurgmantation: (2224, 200, 200)\n",
            "y_Arurgmantation: (2224,)\n"
          ],
          "name": "stdout"
        }
      ]
    },
    {
      "cell_type": "markdown",
      "metadata": {
        "id": "pyISJnwmMpdc",
        "colab_type": "text"
      },
      "source": [
        "#### Para uniformização, será feito o reshape das imagens totalidade (Imagens Original e Augmentation) para um tamanho único de 200x200, gray-scale:"
      ]
    },
    {
      "cell_type": "code",
      "metadata": {
        "id": "vVVUapF-Mpdd",
        "colab_type": "code",
        "colab": {
          "base_uri": "https://localhost:8080/",
          "height": 50
        },
        "outputId": "2d8edcde-20e5-45a8-f34c-76b503ad14b7"
      },
      "source": [
        "X_all_Original_image = X_all_Original_image.reshape(len(y_all_Original_image),200,200,1)\n",
        "X_Arurgmantation = X_Arurgmantation.reshape(len(y_Arurgmantation),200,200,1)\n",
        "print('X_all_Original_image:',X_all_Original_image.shape)\n",
        "print('X_Arurgmantation:',X_Arurgmantation.shape)"
      ],
      "execution_count": null,
      "outputs": [
        {
          "output_type": "stream",
          "text": [
            "X_all_Original_image: (6400, 200, 200, 1)\n",
            "X_Arurgmantation: (2224, 200, 200, 1)\n"
          ],
          "name": "stdout"
        }
      ]
    },
    {
      "cell_type": "markdown",
      "metadata": {
        "id": "ix9Vtg3cMpdi",
        "colab_type": "text"
      },
      "source": [
        "### Standardização de inputs\n",
        "#### As imagens já estão standardizadas:"
      ]
    },
    {
      "cell_type": "code",
      "metadata": {
        "id": "hDL9ppB7Mpdi",
        "colab_type": "code",
        "colab": {
          "base_uri": "https://localhost:8080/",
          "height": 33
        },
        "outputId": "8b157915-868a-47dc-93fd-02874954c225"
      },
      "source": [
        "pixels = np.asarray(X_all_Original_image)\n",
        "\n",
        "print('Pixel min: %.3f, Pixel max: %.3f' % (pixels.min(), pixels.max()))\n",
        "# convert from integers to floats\n",
        "pixels = pixels.astype('float32')"
      ],
      "execution_count": null,
      "outputs": [
        {
          "output_type": "stream",
          "text": [
            "Pixel min: 0.000, Pixel max: 1.000\n"
          ],
          "name": "stdout"
        }
      ]
    },
    {
      "cell_type": "code",
      "metadata": {
        "id": "9AssxuDpMpdm",
        "colab_type": "code",
        "colab": {
          "base_uri": "https://localhost:8080/",
          "height": 33
        },
        "outputId": "046b650a-a9b1-45b5-b4d0-5f3fe4641e89"
      },
      "source": [
        "pixels = np.asarray(X_Arurgmantation)\n",
        "\n",
        "print('Pixel min: %.3f, Pixel max: %.3f' % (pixels.min(), pixels.max()))\n",
        "# convert from integers to floats\n",
        "pixels = pixels.astype('float32')"
      ],
      "execution_count": null,
      "outputs": [
        {
          "output_type": "stream",
          "text": [
            "Pixel min: 0.000, Pixel max: 0.996\n"
          ],
          "name": "stdout"
        }
      ]
    },
    {
      "cell_type": "markdown",
      "metadata": {
        "id": "PyCjqoF-Mpdq",
        "colab_type": "text"
      },
      "source": [
        "### Visualizemos a dimensão de cada conjunto de dados:"
      ]
    },
    {
      "cell_type": "code",
      "metadata": {
        "id": "98Q0IkXBMpds",
        "colab_type": "code",
        "colab": {
          "base_uri": "https://localhost:8080/",
          "height": 82
        },
        "outputId": "ec4fe63f-0883-45d9-df9c-f7113eda622a"
      },
      "source": [
        "count_labels(y_all_Original_image)"
      ],
      "execution_count": null,
      "outputs": [
        {
          "output_type": "stream",
          "text": [
            "#NonDemented_all: 3200\n",
            "#ModerateDemented_all: 64\n",
            "#MildDemented_all: 896\n",
            "#VeryMildDemented_all: 2240\n"
          ],
          "name": "stdout"
        }
      ]
    },
    {
      "cell_type": "code",
      "metadata": {
        "id": "j0pX697kMpdv",
        "colab_type": "code",
        "colab": {
          "base_uri": "https://localhost:8080/",
          "height": 82
        },
        "outputId": "6173d326-827b-44aa-fa57-b488d0505b59"
      },
      "source": [
        "count_labels(y_Arurgmantation)"
      ],
      "execution_count": null,
      "outputs": [
        {
          "output_type": "stream",
          "text": [
            "#NonDemented_all: 0\n",
            "#ModerateDemented_all: 1508\n",
            "#MildDemented_all: 716\n",
            "#VeryMildDemented_all: 0\n"
          ],
          "name": "stdout"
        }
      ]
    },
    {
      "cell_type": "markdown",
      "metadata": {
        "id": "xmEwS5jdMpdy",
        "colab_type": "text"
      },
      "source": [
        "### Partição dos dados\n",
        "#### 30% dos dados serão usados para teste\n",
        "#### dos restantes 70%, um sub-grupo de 30% será usado para validação: 20% das imagens para validação e 50% para treino"
      ]
    },
    {
      "cell_type": "code",
      "metadata": {
        "id": "Y3lZwQ22Mpdz",
        "colab_type": "code",
        "colab": {}
      },
      "source": [
        "X_train, X_test, y_train, y_test = train_test_split(X_all_Original_image, y_all_Original_image, test_size = 0.3,random_state=1)"
      ],
      "execution_count": null,
      "outputs": []
    },
    {
      "cell_type": "code",
      "metadata": {
        "id": "0XlRjGXOMpd2",
        "colab_type": "code",
        "colab": {}
      },
      "source": [
        "X_train, X_val, y_train, y_val = train_test_split(X_train, y_train, test_size = 0.3,random_state=1)"
      ],
      "execution_count": null,
      "outputs": []
    },
    {
      "cell_type": "code",
      "metadata": {
        "id": "6JOIeWQMMpd5",
        "colab_type": "code",
        "colab": {
          "base_uri": "https://localhost:8080/",
          "height": 66
        },
        "outputId": "d7c0764f-3896-4411-d118-26aa7ff75d1c"
      },
      "source": [
        "print('X_train:',X_train.shape)\n",
        "print('X_test:',X_test.shape)\n",
        "print('X_val:',X_val.shape)"
      ],
      "execution_count": null,
      "outputs": [
        {
          "output_type": "stream",
          "text": [
            "X_train: (3136, 200, 200, 1)\n",
            "X_test: (1920, 200, 200, 1)\n",
            "X_val: (1344, 200, 200, 1)\n"
          ],
          "name": "stdout"
        }
      ]
    },
    {
      "cell_type": "code",
      "metadata": {
        "id": "3nAb8pCdMpd8",
        "colab_type": "code",
        "colab": {}
      },
      "source": [
        "y_train= np.concatenate((y_train,y_Arurgmantation),axis=0)\n",
        "X_train=np.concatenate((X_train,X_Arurgmantation),axis=0)"
      ],
      "execution_count": null,
      "outputs": []
    },
    {
      "cell_type": "code",
      "metadata": {
        "id": "2wEU7gKpl_Z0",
        "colab_type": "code",
        "colab": {}
      },
      "source": [
        "np.save('X_train.npy', X_train)\n",
        "np.save('X_test.npy', X_test)\n",
        "np.save('y_train.npy', y_train)\n",
        "np.save('y_test.npy', y_test)\n",
        "np.save('X_val.npy', X_val)\n",
        "np.save('y_val.npy', y_val)"
      ],
      "execution_count": null,
      "outputs": []
    },
    {
      "cell_type": "code",
      "metadata": {
        "id": "yLDYxULamscx",
        "colab_type": "code",
        "colab": {}
      },
      "source": [
        "X_train = np.load('X_train.npy')\n",
        "X_test = np.load('X_test.npy')\n",
        "y_train = np.load('y_train.npy')\n",
        "y_test = np.load('y_test.npy')\n",
        "X_val = np.load('X_val.npy')\n",
        "y_val = np.load('y_val.npy')"
      ],
      "execution_count": null,
      "outputs": []
    },
    {
      "cell_type": "code",
      "metadata": {
        "id": "n4vWkWIbMpeB",
        "colab_type": "code",
        "colab": {
          "base_uri": "https://localhost:8080/",
          "height": 66
        },
        "outputId": "5bc42366-9939-49bb-b0dc-523d944e097e"
      },
      "source": [
        "print('X_train:',X_train.shape)\n",
        "print('X_test:',X_test.shape)\n",
        "print('X_val:',X_val.shape)"
      ],
      "execution_count": null,
      "outputs": [
        {
          "output_type": "stream",
          "text": [
            "X_train: (5360, 200, 200, 1)\n",
            "X_test: (1920, 200, 200, 1)\n",
            "X_val: (1344, 200, 200, 1)\n"
          ],
          "name": "stdout"
        }
      ]
    },
    {
      "cell_type": "markdown",
      "metadata": {
        "id": "UeVeLradMpeF",
        "colab_type": "text"
      },
      "source": [
        "### Categorização das labels\n",
        "#### Neste projeto, será utilizada a loss sparse_categorical_crossentropy como alternativa à loss categorical_crossentropy. Esta alternativa dispensa a categorização das labels (one-hot-encoding), beneficiando ainda das vantagens da loss categorical_crossentropy.(Machine Learning)"
      ]
    },
    {
      "cell_type": "code",
      "metadata": {
        "id": "VsfBzkPKMpeF",
        "colab_type": "code",
        "colab": {}
      },
      "source": [
        "#altenativa ao sparse_categorical_entropy\n",
        "y_train_Cat = to_categorical(y_train)\n",
        "y_test_Cat = to_categorical(y_test)\n",
        "y_val_Cat = to_categorical(y_val)"
      ],
      "execution_count": null,
      "outputs": []
    },
    {
      "cell_type": "code",
      "metadata": {
        "id": "DitciUbNMpeJ",
        "colab_type": "code",
        "colab": {
          "base_uri": "https://localhost:8080/",
          "height": 66
        },
        "outputId": "bf284ab4-0e2b-4ef3-e3eb-ff394ac33d04"
      },
      "source": [
        "print(y_train.shape)\n",
        "print(y_test.shape)\n",
        "print(y_val.shape)"
      ],
      "execution_count": null,
      "outputs": [
        {
          "output_type": "stream",
          "text": [
            "(5360,)\n",
            "(1920,)\n",
            "(1344,)\n"
          ],
          "name": "stdout"
        }
      ]
    }
  ]
}