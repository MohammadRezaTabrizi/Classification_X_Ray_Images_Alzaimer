{
  "nbformat": 4,
  "nbformat_minor": 0,
  "metadata": {
    "colab": {
      "name": "Optimizer_Hiperrarameters.ipynb",
      "provenance": []
    },
    "kernelspec": {
      "name": "python3",
      "display_name": "Python 3"
    }
  },
  "cells": [
    {
      "cell_type": "markdown",
      "metadata": {
        "id": "MqT9lHaHj5vc",
        "colab_type": "text"
      },
      "source": [
        "# Identificação de Alzaimer em imagens RX\n",
        "* Mohammad Reza Tabrizi"
      ]
    },
    {
      "cell_type": "markdown",
      "metadata": {
        "id": "-zA3h9K_FuXB",
        "colab_type": "text"
      },
      "source": [
        "\n",
        "# Otimização de hiperparâmetros\n",
        "Os modelos anteriores apresentam performance interessante. Efetuar-se-á nesta secção um processo de otimização de hipermparâmetros, de modo a aumentar este valor, identificando quais os parâmetros mais adequados e que garantem uma precisão ótima.\n",
        "\n",
        "Começamos por definir a função que alojará as várias topologias (convolucionais, pooling, dropout) e a taxa de dropout:"
      ]
    },
    {
      "cell_type": "code",
      "metadata": {
        "id": "975eBEPBEjbW",
        "colab_type": "code",
        "colab": {}
      },
      "source": [
        "\n",
        "def setup_model(topo_c, topo_p, dropout_rate, input_size, output_size):\n",
        "  model = Sequential()\n",
        "  model.add(Conv2D(topo_c[0], (3, 3), activation='relu', input_shape=(200,200,1)))\n",
        "  if topo_p[0]==1: model.add(MaxPooling2D((2, 2)))\n",
        "  if dropout_rate > 0: model.add(Dropout(dropout_rate))\n",
        "  for i in range(1,len(topo_c)):\n",
        "    model.add(Conv2D(topo_c[i], (3, 3), activation='relu'))\n",
        "    if topo_p[i]==1: model.add(MaxPooling2D((2, 2)))\n",
        "    if dropout_rate > 0: model.add(Dropout(dropout_rate))\n",
        "  model.add(layers.Flatten())\n",
        "  if dropout_rate > 0: model.add(Dropout(dropout_rate))\n",
        "  model.add(Dense(64, activation='relu'))\n",
        "  model.add(Dense(16, activation='relu'))\n",
        "  model.add(Dense(4, activation='softmax'))\n",
        "  return model"
      ],
      "execution_count": null,
      "outputs": []
    },
    {
      "cell_type": "markdown",
      "metadata": {
        "id": "oWmBlq_AGCJA",
        "colab_type": "text"
      },
      "source": [
        "Na sequência define-se uma função que incorpora os vários algoritmos de treino, a loss e a métrica a usar, o número de epochs e o batch size:"
      ]
    },
    {
      "cell_type": "code",
      "metadata": {
        "id": "LnV25g2-GInS",
        "colab_type": "code",
        "colab": {}
      },
      "source": [
        "def train_cnn(model, alg, lr, Xtrain, Ytrain, epochs, batch_size):\n",
        "  if alg == \"adam\":\n",
        "    optimizer = optimizers.Adam(lr = lr)\n",
        "  elif alg == \"rmsprop\":\n",
        "    optimizer = optimizers.RMSprop(lr = lr)\n",
        "  elif alg == \"sgd_momentum\":\n",
        "   optimizer = optimizers.SGD(lr = lr, momentum = 0.9)\n",
        "  else: optimizer = optimizers.SGD(lr = lr)\n",
        "\n",
        "  model.compile(optimizer = optimizer, loss = \"sparse_categorical_crossentropy\", metrics = [\"accuracy\"])\n",
        "  history=model.fit(Xtrain, Ytrain, epochs = epochs, batch_size = batch_size, verbose = 0,callbacks = callbacks)\n",
        "  return model,history"
      ],
      "execution_count": null,
      "outputs": []
    },
    {
      "cell_type": "markdown",
      "metadata": {
        "id": "unNcUBTFGQgB",
        "colab_type": "text"
      },
      "source": [
        "A última função vai treinando os vários modelos, guardando configuração com a melhor performance:"
      ]
    },
    {
      "cell_type": "code",
      "metadata": {
        "id": "jwuznK7RGR5V",
        "colab_type": "code",
        "colab": {}
      },
      "source": [
        "def cnn_optimization(opt_params, Xtrain, Ytrain, Xval, Yval, iterations, verbose = True):\n",
        "  #verbose: producing detailed logging information\n",
        "  from random import choice\n",
        "  if verbose: print(\"Topology\\tDropout\\tAlgorithm\\tLRate\\tBatchSize\\tEpochs\\tValLoss\\tValAcc\\n\")\n",
        "  best_acc = None\n",
        "  input_size = Xtrain.shape[0]\n",
        "  output_size = Ytrain.shape[0]\n",
        "\n",
        "  if \"topology_c\" in opt_params: topologies_c = opt_params[\"topology_c\"]\n",
        "  else: topologies_c = [[64,64,64]]\n",
        "  if \"topology_p\" in opt_params: topologies_p = opt_params[\"topology_p\"]\n",
        "  else: topologies_p = [[1,1,1]]\n",
        "  if \"algorithm\" in opt_params: algs = opt_params[\"algorithm\"]\n",
        "  else: algs = [\"adam\"]\n",
        "  if \"lr\" in opt_params: lrs = opt_params[\"lr\"]\n",
        "  else: lrs = [0.001]\n",
        "  if \"dropout\" in opt_params: dropouts = opt_params[\"dropout\"]\n",
        "  else: dropouts= [0.0]\n",
        "  if \"batch_size\" in opt_params: batch_sizes = opt_params[\"batch_size\"]\n",
        "  else: batch_sizes= [512]\n",
        "  if \"epochs\" in opt_params: epoch = opt_params[\"epochs\"]\n",
        "  else: epoch= [5]\n",
        "\n",
        "  for it in range(iterations):\n",
        "    #print('Iteração', it+1, 'de', iterations)\n",
        "    #random item from the list\n",
        "    topo_c = choice(topologies_c)\n",
        "    topo_p = choice(topologies_p)   \n",
        "    dropout_rate = choice(dropouts)\n",
        "    dnn = setup_model (topo_c,topo_p, dropout_rate, input_size, output_size)\n",
        "    alg = choice(algs)\n",
        "    lr = choice(lrs)\n",
        "    bs=choice(batch_sizes)\n",
        "    epo=choice(epoch)\n",
        "\n",
        "    dnn, history = train_cnn(dnn, alg, lr, Xtrain, Ytrain, epo, bs)\n",
        "    val_loss, val_acc = dnn.evaluate(Xval, Yval, verbose = 0)\n",
        "    if verbose:\n",
        "      print(topo_c, \"\\t\", topo_p, \"\\t\", dropout_rate, \"\\t\", alg, \"\\t\", lr, \"\\t\", bs, \"\\t\", epo, \"\\t\", val_loss, \"\\t\", val_acc)\n",
        "    if best_acc is None or val_acc > best_acc:\n",
        "      best_acc = val_acc\n",
        "      best_config = (topo_c, topo_p, dropout_rate, alg, lr, bs, epo)\n",
        "      best_model=dnn\n",
        "      best_history=history\n",
        "    return best_config, best_acc,best_model,best_history"
      ],
      "execution_count": null,
      "outputs": []
    },
    {
      "cell_type": "markdown",
      "metadata": {
        "id": "muHXPci3GnXc",
        "colab_type": "text"
      },
      "source": [
        "Listam-se os hiperparâmetros a otimizar:"
      ]
    },
    {
      "cell_type": "code",
      "metadata": {
        "id": "4w0tGk4EGjsK",
        "colab_type": "code",
        "colab": {}
      },
      "source": [
        "opt_pars = {\n",
        "     \"topology_c\":[[64,64,64], [32,64,128], [16,32,64,128]],\n",
        "     \"topology_p\":[[1,1,1,1,1], [1,0,1,0,1], [1,0,0,1,1]],#pooling constante ou intercalado\n",
        "     \"algorithm\": [\"adam\",\"RMSprop\"],\n",
        "     \"lr\": [0.001, 0.0001], \n",
        "     \"dropout\": [0, 0.2],\n",
        "     \"batch_size\":  [16,32,64,128],\n",
        "     \"epochs\":[10]}"
      ],
      "execution_count": null,
      "outputs": []
    },
    {
      "cell_type": "markdown",
      "metadata": {
        "id": "ns4dZ_lsGrrw",
        "colab_type": "text"
      },
      "source": [
        "E inicia-se o treino dos modelos e a seleção do mais preditivo:"
      ]
    },
    {
      "cell_type": "code",
      "metadata": {
        "id": "o1i5KRVoGs_E",
        "colab_type": "code",
        "colab": {
          "base_uri": "https://localhost:8080/",
          "height": 151
        },
        "outputId": "34b09242-65b5-4ce4-d173-f669f511b815"
      },
      "source": [
        "best_config, best_val_acc,best_model,best_history=cnn_optimization(opt_pars, X_train, y_train, X_val, y_val, 10,verbose = True)\n"
      ],
      "execution_count": null,
      "outputs": [
        {
          "output_type": "stream",
          "text": [
            "Topology\tDropout\tAlgorithm\tLRate\tBatchSize\tEpochs\tValLoss\tValAcc\n",
            "\n"
          ],
          "name": "stdout"
        },
        {
          "output_type": "stream",
          "text": [
            "/usr/local/lib/python3.6/dist-packages/keras/callbacks/callbacks.py:846: RuntimeWarning: Early stopping conditioned on metric `val_accuracy` which is not available. Available metrics are: loss,accuracy\n",
            "  (self.monitor, ','.join(list(logs.keys()))), RuntimeWarning\n",
            "/usr/local/lib/python3.6/dist-packages/keras/callbacks/callbacks.py:1042: RuntimeWarning: Reduce LR on plateau conditioned on metric `val_accuracy` which is not available. Available metrics are: loss,accuracy,lr\n",
            "  (self.monitor, ','.join(list(logs.keys()))), RuntimeWarning\n"
          ],
          "name": "stderr"
        },
        {
          "output_type": "stream",
          "text": [
            "[16, 32, 64, 128] \t [1, 0, 1, 0, 1] \t 0.2 \t adam \t 0.0001 \t 64 \t 10 \t 0.6428442327749162 \t 0.7299107313156128\n"
          ],
          "name": "stdout"
        }
      ]
    },
    {
      "cell_type": "markdown",
      "metadata": {
        "id": "AMJ2zSaEHD4r",
        "colab_type": "text"
      },
      "source": [
        "Treina-se de seguida a melhor configuração identificada para o modelo num conjunto de dados que engloba os dados de treino e validação."
      ]
    },
    {
      "cell_type": "code",
      "metadata": {
        "id": "in_7Sdx_HSVd",
        "colab_type": "code",
        "colab": {
          "base_uri": "https://localhost:8080/",
          "height": 151
        },
        "outputId": "627075d6-991a-4476-d883-9cad8f4af446"
      },
      "source": [
        "print(\"Best configuration:\", best_config)\n",
        "print(\"Best validation accuracy:\", best_val_acc)\n",
        "best_model = setup_model(best_config[0], best_config[1],best_config[2], X_train.shape[0],y_train.shape[0])\n",
        "best_model, best_history = train_cnn(best_model, best_config[3], best_config[4], X_train,y_train,best_config[5],100)\n",
        "test_loo, test_acc = best_model.evaluate(X_test, y_test, verbose = 0)\n",
        "print(\"Test set metrics:\", test_loo, test_acc)\n",
        "\n",
        "history_model_CNN_API_2=model_CNN_API_2.fit(X_train, y_train, epochs=100,validation_data=(X_val,y_val),callbacks = callbacks)"
      ],
      "execution_count": null,
      "outputs": [
        {
          "output_type": "stream",
          "text": [
            "Best configuration: ([16, 32, 64, 128], [1, 0, 1, 0, 1], 0.2, 'adam', 0.0001, 64, 10)\n",
            "Best validation accuracy: 0.7299107313156128\n"
          ],
          "name": "stdout"
        },
        {
          "output_type": "stream",
          "text": [
            "/usr/local/lib/python3.6/dist-packages/keras/callbacks/callbacks.py:846: RuntimeWarning: Early stopping conditioned on metric `val_accuracy` which is not available. Available metrics are: loss,accuracy\n",
            "  (self.monitor, ','.join(list(logs.keys()))), RuntimeWarning\n",
            "/usr/local/lib/python3.6/dist-packages/keras/callbacks/callbacks.py:1042: RuntimeWarning: Reduce LR on plateau conditioned on metric `val_accuracy` which is not available. Available metrics are: loss,accuracy,lr\n",
            "  (self.monitor, ','.join(list(logs.keys()))), RuntimeWarning\n"
          ],
          "name": "stderr"
        },
        {
          "output_type": "stream",
          "text": [
            "Test set metrics: 0.38688160352758133 0.9401041865348816\n"
          ],
          "name": "stdout"
        }
      ]
    },
    {
      "cell_type": "code",
      "metadata": {
        "id": "Q12DCR8THhIN",
        "colab_type": "code",
        "colab": {
          "base_uri": "https://localhost:8080/",
          "height": 1000
        },
        "outputId": "b73256d7-cb2b-478e-bc00-39dfa1fb518c"
      },
      "source": [
        "best_model.summary()\n",
        "tf.keras.utils.plot_model(best_model, \"best_model.png\", show_shapes = True)\n",
        "output_metrics2(best_model,best_history,X_test, y_test)"
      ],
      "execution_count": null,
      "outputs": [
        {
          "output_type": "stream",
          "text": [
            "Model: \"sequential_10\"\n",
            "_________________________________________________________________\n",
            "Layer (type)                 Output Shape              Param #   \n",
            "=================================================================\n",
            "conv2d_39 (Conv2D)           (None, 198, 198, 16)      160       \n",
            "_________________________________________________________________\n",
            "max_pooling2d_23 (MaxPooling (None, 99, 99, 16)        0         \n",
            "_________________________________________________________________\n",
            "dropout_28 (Dropout)         (None, 99, 99, 16)        0         \n",
            "_________________________________________________________________\n",
            "conv2d_40 (Conv2D)           (None, 97, 97, 32)        4640      \n",
            "_________________________________________________________________\n",
            "dropout_29 (Dropout)         (None, 97, 97, 32)        0         \n",
            "_________________________________________________________________\n",
            "conv2d_41 (Conv2D)           (None, 95, 95, 64)        18496     \n",
            "_________________________________________________________________\n",
            "max_pooling2d_24 (MaxPooling (None, 47, 47, 64)        0         \n",
            "_________________________________________________________________\n",
            "dropout_30 (Dropout)         (None, 47, 47, 64)        0         \n",
            "_________________________________________________________________\n",
            "conv2d_42 (Conv2D)           (None, 45, 45, 128)       73856     \n",
            "_________________________________________________________________\n",
            "dropout_31 (Dropout)         (None, 45, 45, 128)       0         \n",
            "_________________________________________________________________\n",
            "flatten_12 (Flatten)         (None, 259200)            0         \n",
            "_________________________________________________________________\n",
            "dropout_32 (Dropout)         (None, 259200)            0         \n",
            "_________________________________________________________________\n",
            "dense_40 (Dense)             (None, 64)                16588864  \n",
            "_________________________________________________________________\n",
            "dense_41 (Dense)             (None, 16)                1040      \n",
            "_________________________________________________________________\n",
            "dense_42 (Dense)             (None, 4)                 68        \n",
            "=================================================================\n",
            "Total params: 16,687,124\n",
            "Trainable params: 16,687,124\n",
            "Non-trainable params: 0\n",
            "_________________________________________________________________\n",
            "Predicted    0   1    2    3\n",
            "Actual                      \n",
            "0          902   0    9   45\n",
            "1            0  14    2    2\n",
            "2            8   0  247   16\n",
            "3           28   0    5  642\n",
            "accuracy total: 0.9401041666666666\n",
            "precision NonDemente: 0.9616204690831557\n",
            "recall NonDemente: 0.9435146443514645\n",
            "precision ModerateDemented: 1.0\n",
            "recall ModerateDemented: 0.7777777777777778\n",
            "precision MildDemented: 0.9391634980988594\n",
            "recall MildDemented: 0.9114391143911439\n",
            "precision VeryMildDemented: 0.9106382978723404\n",
            "recall VeryMildDemented: 0.9511111111111111\n",
            "precision total: 0.9528555662635889\n",
            "recall total: 0.8959606619078743\n",
            "label precision recall\n",
            "    0     0.962  0.944\n",
            "    1     1.000  0.778\n",
            "    2     0.939  0.911\n",
            "    3     0.911  0.951\n",
            "1920/1920 [==============================] - 2s 1ms/step\n",
            "[0.38688160352758133, 0.9401041865348816]\n"
          ],
          "name": "stdout"
        },
        {
          "output_type": "display_data",
          "data": {
            "image/png": "[encoded data removed]",
            "text/plain": [
              "<Figure size 864x288 with 2 Axes>"
            ]
          },
          "metadata": {
            "tags": [],
            "needs_background": "light"
          }
        }
      ]
    }
  ]
}