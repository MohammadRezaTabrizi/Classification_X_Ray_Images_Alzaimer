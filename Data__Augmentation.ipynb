{
  "nbformat": 4,
  "nbformat_minor": 0,
  "metadata": {
    "colab": {
      "name": "Data_ Augmentation.ipynb",
      "provenance": []
    },
    "kernelspec": {
      "name": "python3",
      "display_name": "Python 3"
    }
  },
  "cells": [
    {
      "cell_type": "markdown",
      "metadata": {
        "id": "mFDnBYfkiP0S",
        "colab_type": "text"
      },
      "source": [
        "# Identificação de Alzaimer em imagens RX\n",
        "* Mohammad Reza Tabrizi"
      ]
    },
    {
      "cell_type": "markdown",
      "metadata": {
        "id": "5o-vOH-BMpcq",
        "colab_type": "text"
      },
      "source": [
        "# Geral pasta para guardar imagem Augmentation"
      ]
    },
    {
      "cell_type": "markdown",
      "metadata": {
        "id": "VB0VNBa_Mpcr",
        "colab_type": "raw"
      },
      "source": [
        "!mkdir /content/Augmentation_ModerateDemented_Alz"
      ]
    },
    {
      "cell_type": "markdown",
      "metadata": {
        "id": "O62QEaf7Mpcs",
        "colab_type": "text"
      },
      "source": [
        "# Data Augmentation\n",
        "### De modo a aumentar os dados Alzaimer, ainda pouco disponíveis no caso de (ModerateDemented) e  (MildDemented) , procedeu-se à geração de novos dados. Esta ação ajudará no controlo do overfitting e na previsão do modelo.\n",
        "\n",
        "### Por cada imagem ModerateDemented (label=1) no conjunto de treino, a suguinte função gerará 30 imagens adicionais e Por cada imagem MildDemented (label=2) no conjunto de treino, a suguinte função gerará 2 imagens adicionais, recorrendo a ligeiras translaões e outro característica  da imagem inicial como (enviezamento, zoom, simetria,brightness_range ). Para o problema em análise, as restantes transformações não foram consideradas adequadas."
      ]
    },
    {
      "cell_type": "code",
      "metadata": {
        "colab_type": "code",
        "id": "FnyU0q3BArkd",
        "colab": {}
      },
      "source": [
        "g=0\n",
        "train_datagen = ImageDataGenerator(\n",
        "      #rotation_range=25,#rotacao:0;180\n",
        "      width_shift_range=0.1,#translaçao vertical\n",
        "      height_shift_range=0.1,# translação horizontal\n",
        "      shear_range=0.1,#enviezamento: quadrado->losango\n",
        "      zoom_range=0.3,#zoom\n",
        "      horizontal_flip=True,#simetria\n",
        "      brightness_range=[0.2,1.0],\n",
        "      fill_mode='nearest')\n",
        "k=0\n",
        "#max_len=len(y_all)-1\n",
        "\n",
        "for j in range(1,len(y_train),1):\n",
        "    if y_train[j]==1: #Alzaimer_ModerateDemented\n",
        "        k=k+1\n",
        "        img = X_train[j]\n",
        "        # Convert it to a Numpy array\n",
        "        x = image.img_to_array(img)\n",
        "\n",
        "        # Reshape it to (1, shape)\n",
        "        x = x.reshape((1,) + x.shape)\n",
        "\n",
        "        # The .flow() command below generates batches of randomly transformed images.\n",
        "        # It will loop indefinitely, so we need to `break` the loop at some point!\n",
        "        i = 0\n",
        "        plt.rcParams['figure.figsize'] = (10.0, 10.0)\n",
        "        plt.subplots_adjust(wspace=0.5, hspace=0.2)\n",
        "        for batch in train_datagen.flow(x, batch_size=1):\n",
        "            imgplot = plt.imshow(image.array_to_img(batch[0]),cmap='gray', vmin=0, vmax=255)\n",
        "            i += 1\n",
        "            #triplicar imagens\n",
        "            if i % 30 == 0:\n",
        "                g=g+30\n",
        "                print(g)\n",
        "                break\n",
        "            plt.axis('off')\n",
        "            #plt.savefig(\"test.jpg\", bbox_inches='tight')\n",
        "\n",
        "            plt.savefig('Augmentation_ModerateDemented_Alz/ModerateDemented_Alz_'+str(j)+str(i)+\".jpg\")\n",
        "\n",
        "            \n",
        "        #plt.show() \n",
        "print(k)"
      ],
      "execution_count": null,
      "outputs": []
    },
    {
      "cell_type": "markdown",
      "metadata": {
        "id": "HPs4sAT6Mpcw",
        "colab_type": "text"
      },
      "source": [
        "# Geral pasta para guardar imagem Augmentation"
      ]
    },
    {
      "cell_type": "code",
      "metadata": {
        "id": "8HSD-A4IMpcx",
        "colab_type": "code",
        "colab": {}
      },
      "source": [
        "!mkdir /content/Augmentation_MildDemented_Alz"
      ],
      "execution_count": null,
      "outputs": []
    },
    {
      "cell_type": "code",
      "metadata": {
        "id": "vygFkOIFMpc3",
        "colab_type": "code",
        "colab": {}
      },
      "source": [
        "g=0\n",
        "train_datagen = ImageDataGenerator(\n",
        "      #rotation_range=25,#rotacao:0;180\n",
        "      width_shift_range=0.1,#translaçao vertical\n",
        "      height_shift_range=0.1,# translação horizontal\n",
        "      shear_range=0.1,#enviezamento: quadrado->losango\n",
        "      zoom_range=0.3,#zoom\n",
        "      horizontal_flip=True,#simetria\n",
        "      brightness_range=[0.2,1.0],\n",
        "      fill_mode='nearest')\n",
        "k=0\n",
        "#max_len=len(y_all)-1\n",
        "\n",
        "for j in range(1,len(y_train),1):\n",
        "    if y_train[j]==2: #Alzaimer_ModerateDemented\n",
        "        k=k+1\n",
        "        img = X_train[j]\n",
        "        # Convert it to a Numpy array\n",
        "        x = image.img_to_array(img)\n",
        "\n",
        "        # Reshape it to (1, shape)\n",
        "        x = x.reshape((1,) + x.shape)\n",
        "\n",
        "        # The .flow() command below generates batches of randomly transformed images.\n",
        "        # It will loop indefinitely, so we need to `break` the loop at some point!\n",
        "        i = 0\n",
        "        plt.rcParams['figure.figsize'] = (10.0, 10.0)\n",
        "        plt.subplots_adjust(wspace=0.5, hspace=0.2)\n",
        "        for batch in train_datagen.flow(x, batch_size=1):\n",
        "            imgplot = plt.imshow(image.array_to_img(batch[0]),cmap='gray', vmin=0, vmax=255)\n",
        "            i += 1\n",
        "            #triplicar imagens\n",
        "            if i % 2 == 0:\n",
        "                g=g+2\n",
        "                print(g)\n",
        "                break\n",
        "            plt.axis('off')\n",
        "            #plt.savefig(\"test.jpg\", bbox_inches='tight')\n",
        "\n",
        "            plt.savefig('Augmentation_MildDemented_Alz/MildDemented_Alz_'+str(j)+str(i)+\".jpg\")\n",
        "\n",
        "            \n",
        "        #plt.show() \n",
        "print(k)"
      ],
      "execution_count": null,
      "outputs": []
    },
    {
      "cell_type": "code",
      "metadata": {
        "id": "zZMKyA28Mpc7",
        "colab_type": "code",
        "colab": {}
      },
      "source": [
        "train_dir = \"Aug_image/\"\n",
        "#test_dir =  \"Alz_DB/test/\"\n",
        "# cuando ya tenemos prosesamos imagenes es false\n",
        "LOAD_FROM_IMAGES = True"
      ],
      "execution_count": null,
      "outputs": []
    },
    {
      "cell_type": "markdown",
      "metadata": {
        "id": "ooHmhpfAMpc-",
        "colab_type": "text"
      },
      "source": [
        "## Função de seguida, as imagens  são converter em arrays:"
      ]
    },
    {
      "cell_type": "code",
      "metadata": {
        "id": "vqtndJhwMpc_",
        "colab_type": "code",
        "colab": {}
      },
      "source": [
        "def get_data(folder):\n",
        "    X = []\n",
        "    y = []\n",
        "    for folderName in os.listdir(folder):\n",
        "        if not folderName.startswith('.'):\n",
        "            if folderName in ['Augmentation_ModerateDemented_Alz']:\n",
        "                label = 1\n",
        "            elif folderName in ['Augmentation_MildDemented_Alz']:\n",
        "                label = 2\n",
        "            else:\n",
        "                label = 5\n",
        "            \n",
        "            for image_filename in tqdm(os.listdir(folder + folderName)):\n",
        "                    img_file = cv2.imread(folder + folderName + '/' + image_filename)\n",
        "                    if img_file is not None:\n",
        "                        img_file = skimage.transform.resize(img_file, (200, 200, 3),mode='constant',\n",
        "                                                            anti_aliasing=True)\n",
        "                        img_file = rgb2gray(img_file)\n",
        "                        img_arr = np.asarray(img_file)\n",
        "                        X.append(img_arr)\n",
        "                        y.append(label)\n",
        "    X = np.asarray(X)\n",
        "    y = np.asarray(y)\n",
        "    return X,y"
      ],
      "execution_count": null,
      "outputs": []
    },
    {
      "cell_type": "markdown",
      "metadata": {
        "id": "CMZO1XzzMpdC",
        "colab_type": "text"
      },
      "source": [
        "## De seguida, as imagens são  guardadas em arrays:"
      ]
    },
    {
      "cell_type": "code",
      "metadata": {
        "id": "s10GEBOSMpdD",
        "colab_type": "code",
        "colab": {},
        "outputId": "d519388c-bbc7-4e12-f43b-131cb29b23d3"
      },
      "source": [
        "if LOAD_FROM_IMAGES:\n",
        "    #cargamos las imágenes a los arrays\n",
        "    X_Arurgmantation, y_Arurgmantation = get_data(train_dir)\n",
        "    #X_test_All, y_test_All= get_data(test_dir)\n",
        "    \n",
        "    #grabamos los arrays en archivos\n",
        "    np.save('X_Arurgmantation.npy', X_Arurgmantation)\n",
        "    np.save('y_Arurgmantation.npy', y_Arurgmantation)\n",
        "    #np.save('xtest_All.npy', X_test_All)\n",
        "    #np.save('ytest_All.npy', y_test_All)\n",
        "    X_Arurgmantation = np.load('X_Arurgmantation.npy')\n",
        "    y_Arurgmantation = np.load('y_Arurgmantation.npy')\n",
        "   # X_test_All = np.load('xtest_All.npy')\n",
        "   # y_test_All = np.load('ytest_All.npy')\n",
        "else:\n",
        "    #cargamos los arrays anteriormente grabados\n",
        "    X_Arurgmantation = np.load('X_Arurgmantation.npy')\n",
        "    y_Arurgmantation = np.load('y_Arurgmantation.npy')\n",
        "    #X_test_All = np.load('xtest_All.npy')\n",
        "    #y_test_All = np.load('ytest_All.npy')"
      ],
      "execution_count": null,
      "outputs": [
        {
          "output_type": "stream",
          "text": [
            "100%|██████████| 716/716 [01:29<00:00,  8.03it/s]\n",
            "100%|██████████| 1509/1509 [02:53<00:00,  8.68it/s]\n"
          ],
          "name": "stderr"
        }
      ]
    },
    {
      "cell_type": "code",
      "metadata": {
        "id": "QnJCFbFzRcci",
        "colab_type": "code",
        "colab": {}
      },
      "source": [
        "X_Arurgmantation = np.load('X_Arurgmantation.npy')\n",
        "y_Arurgmantation = np.load('y_Arurgmantation.npy')"
      ],
      "execution_count": null,
      "outputs": []
    },
    {
      "cell_type": "markdown",
      "metadata": {
        "id": "PQX8EfLXMpdH",
        "colab_type": "text"
      },
      "source": [
        "### Por fim são anexadas às imagens de Original_image e Arurgmantation para contabilizar"
      ]
    },
    {
      "cell_type": "code",
      "metadata": {
        "id": "ecNM7z_jMpdH",
        "colab_type": "code",
        "colab": {}
      },
      "source": [
        "y_all= np.concatenate((y_all_Original_image,y_Arurgmantation),axis=0)\n",
        "X_all=np.concatenate((X_all_Original_image,X_Arurgmantation),axis=0)"
      ],
      "execution_count": null,
      "outputs": []
    },
    {
      "cell_type": "code",
      "metadata": {
        "id": "I8U6phEcMpdK",
        "colab_type": "code",
        "colab": {}
      },
      "source": [
        "def count_labels(y_all):\n",
        "  how_many_0 = len(np.where(y_all==0)[0])\n",
        "  how_many_1 = len(np.where(y_all==1)[0])\n",
        "  how_many_2 = len(np.where(y_all==2)[0])\n",
        "  how_many_3 = len(np.where(y_all==3)[0])\n",
        "\n",
        "  print('#NonDemented_all:',how_many_0)\n",
        "  print('#ModerateDemented_all:',how_many_1)\n",
        "  print('#MildDemented_all:',how_many_2)\n",
        "  print('#VeryMildDemented_all:',how_many_3)"
      ],
      "execution_count": null,
      "outputs": []
    },
    {
      "cell_type": "markdown",
      "metadata": {
        "id": "2AtNMXmkMpdO",
        "colab_type": "text"
      },
      "source": [
        "## O plot evidencia um conjunto de dados mais balanceado."
      ]
    },
    {
      "cell_type": "code",
      "metadata": {
        "id": "gmVORoiPMpdR",
        "colab_type": "code",
        "colab": {
          "base_uri": "https://localhost:8080/",
          "height": 360
        },
        "outputId": "cf9f802d-c990-404e-ff1e-d68873fa2136"
      },
      "source": [
        "plt.figure(figsize=(8,4))\n",
        "map_characters = {0: 'NonDemented', 1: 'ModerateDemented', 2: 'MildDemented', 3: 'VeryMildDemented'}\n",
        "dict_characters=map_characters\n",
        "df = pd.DataFrame()\n",
        "df[\"labels\"]=y_all\n",
        "lab = df['labels']\n",
        "dist = lab.value_counts()\n",
        "sns.countplot(lab).set_title(count_labels(y_all))"
      ],
      "execution_count": null,
      "outputs": [
        {
          "output_type": "stream",
          "text": [
            "#NonDemented_all: 3200\n",
            "#ModerateDemented_all: 1572\n",
            "#MildDemented_all: 1612\n",
            "#VeryMildDemented_all: 2240\n"
          ],
          "name": "stdout"
        },
        {
          "output_type": "execute_result",
          "data": {
            "text/plain": [
              "Text(0.5, 1.0, '')"
            ]
          },
          "metadata": {
            "tags": []
          },
          "execution_count": 11
        },
        {
          "output_type": "display_data",
          "data": {
            "image/png": "[encoded data removed]",
            "text/plain": [
              "<Figure size 576x288 with 1 Axes>"
            ]
          },
          "metadata": {
            "tags": [],
            "needs_background": "light"
          }
        }
      ]
    }
  ]
}